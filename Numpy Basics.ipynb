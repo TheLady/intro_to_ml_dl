{
 "cells": [
  {
   "cell_type": "code",
   "execution_count": 12,
   "metadata": {
    "collapsed": false
   },
   "outputs": [
    {
     "name": "stdout",
     "output_type": "stream",
     "text": [
      "<type 'numpy.ndarray'>\n"
     ]
    }
   ],
   "source": [
    "#reference:http://cs231n.github.io/python-numpy-tutorial/\n",
    "\n",
    "import numpy as np\n",
    "\n",
    "test = np.array([1, 2, 3])  \n",
    "print (type(test))            \n",
    "#print test.shape            \n",
    "#print test[0], test[1],test[2]  \n",
    "#test[0] = 5                \n",
    "#print test                 \n"
   ]
  },
  {
   "cell_type": "code",
   "execution_count": 13,
   "metadata": {
    "collapsed": false
   },
   "outputs": [
    {
     "name": "stdout",
     "output_type": "stream",
     "text": [
      "(2, 3)\n"
     ]
    }
   ],
   "source": [
    "\n",
    "test2 = np.array([[1,2,3],[4,5,6]])   \n",
    "print (test2.shape)                     \n",
    "#print test2[0, 0]\n",
    "#print test2"
   ]
  },
  {
   "cell_type": "code",
   "execution_count": 15,
   "metadata": {
    "collapsed": false
   },
   "outputs": [
    {
     "name": "stdout",
     "output_type": "stream",
     "text": [
      "[1 2 3]\n"
     ]
    }
   ],
   "source": [
    "#built in functions to create arrays:\n",
    "#test = np.zeros((2,2))\n",
    "#test = np.ones((1,2)) \n",
    "#test = np.random.random((2,2))\n",
    "print (test)"
   ]
  },
  {
   "cell_type": "code",
   "execution_count": 18,
   "metadata": {
    "collapsed": false
   },
   "outputs": [],
   "source": [
    "# Create the following rank 2 array with shape (3, 4)\n",
    "# [[ 1  2  3  4]\n",
    "#  [ 5  6  7  8]\n",
    "#  [ 9 10 11 12]]\n",
    "a = np.array([[1,2,3,4], [5,6,7,8], [9,10,11,12]])\n",
    "\n",
    "\n",
    "row_r1 = a[1, :]     \n",
    "row_r2 = a[1:2, :]  \n",
    "\n",
    "#print row_r1, row_r1.shape  \n",
    "#print row_r2, row_r2.shape\n",
    "\n",
    "# We can make the same distinction when accessing columns of an array:\n",
    "col_r1 = a[:, 1]\n",
    "col_r2 = a[:, 1:2]\n",
    "#print col_r1, col_r1.shape\n",
    "#print col_r2, col_r2.shape "
   ]
  },
  {
   "cell_type": "code",
   "execution_count": 19,
   "metadata": {
    "collapsed": false
   },
   "outputs": [],
   "source": [
    "a = np.array([[1,2], [3, 4], [5, 6]])\n",
    "\n",
    "# An example of integer array indexing.\n",
    "# The returned array will have shape (3,) and \n",
    "#print a[[0, 1, 2], [0, 1, 0]]  \n",
    "\n",
    "# The above example of integer array indexing is equivalent to this:\n",
    "#print np.array([a[0, 0], a[1, 1], a[2, 0]])  "
   ]
  },
  {
   "cell_type": "code",
   "execution_count": 20,
   "metadata": {
    "collapsed": true
   },
   "outputs": [],
   "source": [
    "#Elementwise Operations\n",
    "\n",
    "x = np.array([[1,2],[3,4]], dtype=np.float64)\n",
    "y = np.array([[5,6],[7,8]], dtype=np.float64)\n",
    "\n",
    "\n",
    "#print x + y\n",
    "#print np.add(x, y)\n",
    "\n",
    "#print x - y\n",
    "#print np.subtract(x, y)\n",
    "\n",
    "#print x * y\n",
    "#print np.multiply(x, y)\n",
    "\n",
    "#print x / y\n",
    "#print np.divide(x, y)\n",
    "\n",
    "#print np.sqrt(x)"
   ]
  },
  {
   "cell_type": "code",
   "execution_count": 21,
   "metadata": {
    "collapsed": true
   },
   "outputs": [],
   "source": [
    "x = np.array([[1,2],[3,4]])\n",
    "y = np.array([[5,6],[7,8]])\n",
    "\n",
    "v = np.array([9,10])\n",
    "w = np.array([11, 12])\n",
    "\n",
    "# Inner product of vectors; both produce 219\n",
    "#print v.dot(w)\n",
    "#print np.dot(v, w)\n",
    "\n",
    "# Matrix / vector product; both produce the rank 1 array [29 67]\n",
    "#print x.dot(v)\n",
    "#print np.dot(x, v)\n",
    "\n",
    "# Matrix / matrix product;\n",
    "#print x.dot(y)\n",
    "#print np.dot(x, y)"
   ]
  },
  {
   "cell_type": "code",
   "execution_count": 22,
   "metadata": {
    "collapsed": false
   },
   "outputs": [
    {
     "name": "stdout",
     "output_type": "stream",
     "text": [
      "10\n",
      "[4 6]\n",
      "[3 7]\n"
     ]
    }
   ],
   "source": [
    "x = np.array([[1,2],[3,4]])\n",
    "\n",
    "#print np.sum(x)  # Compute sum of all elements;\n",
    "#print np.sum(x, axis=0)  # Compute sum of each column;\n",
    "#print np.sum(x, axis=1)  # Compute sum of each row; "
   ]
  },
  {
   "cell_type": "code",
   "execution_count": null,
   "metadata": {
    "collapsed": true
   },
   "outputs": [],
   "source": []
  }
 ],
 "metadata": {
  "kernelspec": {
   "display_name": "Python 2",
   "language": "python",
   "name": "python2"
  },
  "language_info": {
   "codemirror_mode": {
    "name": "ipython",
    "version": 2
   },
   "file_extension": ".py",
   "mimetype": "text/x-python",
   "name": "python",
   "nbconvert_exporter": "python",
   "pygments_lexer": "ipython2",
   "version": "2.7.12"
  }
 },
 "nbformat": 4,
 "nbformat_minor": 1
}
